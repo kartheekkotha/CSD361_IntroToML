{
  "nbformat": 4,
  "nbformat_minor": 0,
  "metadata": {
    "colab": {
      "provenance": [],
      "gpuType": "T4",
      "authorship_tag": "ABX9TyPC5BYekSNceo58FJfsWkLc",
      "include_colab_link": true
    },
    "kernelspec": {
      "name": "python3",
      "display_name": "Python 3"
    },
    "language_info": {
      "name": "python"
    },
    "accelerator": "GPU"
  },
  "cells": [
    {
      "cell_type": "markdown",
      "metadata": {
        "id": "view-in-github",
        "colab_type": "text"
      },
      "source": [
        "<a href=\"https://colab.research.google.com/github/kartheekkotha/IntroToML/blob/main/BDR_LDA_QDA.ipynb\" target=\"_parent\"><img src=\"https://colab.research.google.com/assets/colab-badge.svg\" alt=\"Open In Colab\"/></a>"
      ]
    },
    {
      "cell_type": "code",
      "source": [
        "import numpy as np\n",
        "import sklearn\n",
        "from sklearn.neighbors import KernelDensity\n",
        "from sklearn.model_selection import GridSearchCV\n",
        "from sklearn.metrics import accuracy_score\n",
        "from sklearn.discriminant_analysis import LinearDiscriminantAnalysis , QuadraticDiscriminantAnalysis\n",
        "\n",
        "from sklearn.naive_bayes import GaussianNB\n"
      ],
      "metadata": {
        "id": "16HVE2WKaeZI"
      },
      "execution_count": null,
      "outputs": []
    },
    {
      "cell_type": "code",
      "source": [
        "from google.colab import drive\n",
        "drive.mount('/content/drive')"
      ],
      "metadata": {
        "colab": {
          "base_uri": "https://localhost:8080/"
        },
        "id": "udu_4KYgCa36",
        "outputId": "0cbb9213-8ca6-4215-be6d-031b87f9b48c"
      },
      "execution_count": null,
      "outputs": [
        {
          "output_type": "stream",
          "name": "stdout",
          "text": [
            "Mounted at /content/drive\n"
          ]
        }
      ]
    },
    {
      "cell_type": "code",
      "source": [
        "def readData(filePath):\n",
        "    dataSet = []\n",
        "    with open(filePath ,'r') as file:\n",
        "        for line in file:\n",
        "            data = [float(x) for x in line.strip().split()]\n",
        "            dataSet.append(data)\n",
        "    return dataSet"
      ],
      "metadata": {
        "id": "v3_qM288DhPY"
      },
      "execution_count": null,
      "outputs": []
    },
    {
      "cell_type": "code",
      "source": [
        "trainDataset = readData('/content/drive/MyDrive/shuttle.trn')\n",
        "testDataset =  readData('/content/drive/MyDrive/shuttle.tst')"
      ],
      "metadata": {
        "id": "BGdlBkVfK6Lc"
      },
      "execution_count": null,
      "outputs": []
    },
    {
      "cell_type": "code",
      "source": [
        "print(\"Example Train Data\")\n",
        "print(trainDataset[:10])\n",
        "print(\"Example Test Data\")\n",
        "print(testDataset[:10])"
      ],
      "metadata": {
        "colab": {
          "base_uri": "https://localhost:8080/"
        },
        "id": "BvD8j1_tK9Fd",
        "outputId": "35105db2-731a-458e-f008-0647067de749"
      },
      "execution_count": null,
      "outputs": [
        {
          "output_type": "stream",
          "name": "stdout",
          "text": [
            "Example Train Data\n",
            "[[50.0, 21.0, 77.0, 0.0, 28.0, 0.0, 27.0, 48.0, 22.0, 2.0], [55.0, 0.0, 92.0, 0.0, 0.0, 26.0, 36.0, 92.0, 56.0, 4.0], [53.0, 0.0, 82.0, 0.0, 52.0, -5.0, 29.0, 30.0, 2.0, 1.0], [37.0, 0.0, 76.0, 0.0, 28.0, 18.0, 40.0, 48.0, 8.0, 1.0], [37.0, 0.0, 79.0, 0.0, 34.0, -26.0, 43.0, 46.0, 2.0, 1.0], [85.0, 0.0, 88.0, -4.0, 6.0, 1.0, 3.0, 83.0, 80.0, 5.0], [56.0, 0.0, 81.0, 0.0, -4.0, 11.0, 25.0, 86.0, 62.0, 4.0], [55.0, -1.0, 95.0, -3.0, 54.0, -4.0, 40.0, 41.0, 2.0, 1.0], [53.0, 8.0, 77.0, 0.0, 28.0, 0.0, 23.0, 48.0, 24.0, 4.0], [37.0, 0.0, 101.0, -7.0, 28.0, 0.0, 64.0, 73.0, 8.0, 1.0]]\n",
            "Example Test Data\n",
            "[[55.0, 0.0, 81.0, 0.0, -6.0, 11.0, 25.0, 88.0, 64.0, 4.0], [56.0, 0.0, 96.0, 0.0, 52.0, -4.0, 40.0, 44.0, 4.0, 4.0], [50.0, -1.0, 89.0, -7.0, 50.0, 0.0, 39.0, 40.0, 2.0, 1.0], [53.0, 9.0, 79.0, 0.0, 42.0, -2.0, 25.0, 37.0, 12.0, 4.0], [55.0, 2.0, 82.0, 0.0, 54.0, -6.0, 26.0, 28.0, 2.0, 1.0], [41.0, 0.0, 84.0, 3.0, 38.0, -4.0, 43.0, 45.0, 2.0, 1.0], [37.0, 0.0, 100.0, 0.0, 36.0, -8.0, 63.0, 64.0, 2.0, 1.0], [46.0, 0.0, 83.0, 0.0, 46.0, 0.0, 37.0, 36.0, 0.0, 1.0], [44.0, 0.0, 79.0, 0.0, 42.0, -17.0, 35.0, 37.0, 2.0, 1.0], [44.0, -1.0, 78.0, 0.0, 44.0, 0.0, 34.0, 34.0, 0.0, 1.0]]\n"
          ]
        }
      ]
    },
    {
      "cell_type": "code",
      "source": [
        "trainDataset = np.array(trainDataset)\n",
        "testDataset = np.array(testDataset)\n",
        "X_train = np.array(trainDataset[:,:-1])\n",
        "Y_train = np.array(trainDataset[:,-1])\n",
        "X_test = np.array(testDataset[:,:-1])\n",
        "Y_test = np.array(testDataset[:,-1])\n",
        "print(\"Example X-Train Data\")\n",
        "print(X_train[:10])\n",
        "print(\"Example Y-Train Data\")\n",
        "print(Y_train[:10])\n",
        "print(\"Example X-Test Data\")\n",
        "print(X_test[:10])\n",
        "print(\"Example Y-Test Data\")\n",
        "print(Y_test[:10])"
      ],
      "metadata": {
        "colab": {
          "base_uri": "https://localhost:8080/"
        },
        "id": "XnPR9-AuLOIM",
        "outputId": "67c6a6e8-93cd-4dd4-e896-f8918a89a192"
      },
      "execution_count": null,
      "outputs": [
        {
          "output_type": "stream",
          "name": "stdout",
          "text": [
            "Example X-Train Data\n",
            "[[ 50.  21.  77.   0.  28.   0.  27.  48.  22.]\n",
            " [ 55.   0.  92.   0.   0.  26.  36.  92.  56.]\n",
            " [ 53.   0.  82.   0.  52.  -5.  29.  30.   2.]\n",
            " [ 37.   0.  76.   0.  28.  18.  40.  48.   8.]\n",
            " [ 37.   0.  79.   0.  34. -26.  43.  46.   2.]\n",
            " [ 85.   0.  88.  -4.   6.   1.   3.  83.  80.]\n",
            " [ 56.   0.  81.   0.  -4.  11.  25.  86.  62.]\n",
            " [ 55.  -1.  95.  -3.  54.  -4.  40.  41.   2.]\n",
            " [ 53.   8.  77.   0.  28.   0.  23.  48.  24.]\n",
            " [ 37.   0. 101.  -7.  28.   0.  64.  73.   8.]]\n",
            "Example Y-Train Data\n",
            "[2. 4. 1. 1. 1. 5. 4. 1. 4. 1.]\n",
            "Example X-Test Data\n",
            "[[ 55.   0.  81.   0.  -6.  11.  25.  88.  64.]\n",
            " [ 56.   0.  96.   0.  52.  -4.  40.  44.   4.]\n",
            " [ 50.  -1.  89.  -7.  50.   0.  39.  40.   2.]\n",
            " [ 53.   9.  79.   0.  42.  -2.  25.  37.  12.]\n",
            " [ 55.   2.  82.   0.  54.  -6.  26.  28.   2.]\n",
            " [ 41.   0.  84.   3.  38.  -4.  43.  45.   2.]\n",
            " [ 37.   0. 100.   0.  36.  -8.  63.  64.   2.]\n",
            " [ 46.   0.  83.   0.  46.   0.  37.  36.   0.]\n",
            " [ 44.   0.  79.   0.  42. -17.  35.  37.   2.]\n",
            " [ 44.  -1.  78.   0.  44.   0.  34.  34.   0.]]\n",
            "Example Y-Test Data\n",
            "[4. 4. 1. 4. 1. 1. 1. 1. 1. 1.]\n"
          ]
        }
      ]
    },
    {
      "cell_type": "code",
      "source": [
        "print(f\"The size of the training set {len(X_train)} with features {len(X_train[0])}\")\n",
        "print(f\"The size of the training set {len(X_test)} with features {len(X_test[0])}\")"
      ],
      "metadata": {
        "colab": {
          "base_uri": "https://localhost:8080/"
        },
        "id": "F8NUeTxQLRCE",
        "outputId": "cf78e184-ddbb-4131-e6be-056fa7311322"
      },
      "execution_count": null,
      "outputs": [
        {
          "output_type": "stream",
          "name": "stdout",
          "text": [
            "The size of the training set 43500 with features 9\n",
            "The size of the training set 14500 with features 9\n"
          ]
        }
      ]
    },
    {
      "cell_type": "code",
      "source": [
        "classLabels = np.unique(Y_train)\n",
        "classes = len(classLabels)\n",
        "print(\"No of classes present in the data are\",classes)"
      ],
      "metadata": {
        "colab": {
          "base_uri": "https://localhost:8080/"
        },
        "id": "MLSZNqaVLTuJ",
        "outputId": "3c0c0936-a46c-48f0-f9fa-5cade49b130f"
      },
      "execution_count": null,
      "outputs": [
        {
          "output_type": "stream",
          "name": "stdout",
          "text": [
            "No of classes present in the data are 7\n"
          ]
        }
      ]
    },
    {
      "cell_type": "code",
      "source": [
        "#storing the pdf of the classes in the array of size 7\n",
        "#class conditional probability p(x|C1) it will graph the class\n",
        "#depending on the given x (x1,x2...x9)values in train data here\n",
        "pdf= {}\n",
        "for label in classLabels:\n",
        "    classData = X_train[Y_train==label]#grouping the data of certain class\n",
        "    grid = GridSearchCV(KernelDensity(),\n",
        "                        {'bandwidth': np.linspace(0.1, 1.0, 10)},\n",
        "                        cv= 5)  # You can adjust cv for cross-validation\n",
        "    grid.fit(classData)\n",
        "    bandwidth = grid.best_params_['bandwidth']\n",
        "    print(bandwidth)\n",
        "    kde = KernelDensity(kernel='gaussian', bandwidth=bandwidth).fit(classData)\n",
        "    pdf[label] = kde\n",
        "\n",
        "print(pdf)"
      ],
      "metadata": {
        "colab": {
          "base_uri": "https://localhost:8080/"
        },
        "id": "DYe4fOxjLWis",
        "outputId": "da4d37be-3aa7-4701-f781-2f6aa44573f2"
      },
      "execution_count": null,
      "outputs": [
        {
          "output_type": "stream",
          "name": "stdout",
          "text": [
            "1.0\n",
            "1.0\n",
            "1.0\n",
            "1.0\n",
            "1.0\n",
            "1.0\n",
            "1.0\n",
            "{1.0: KernelDensity(), 2.0: KernelDensity(), 3.0: KernelDensity(), 4.0: KernelDensity(), 5.0: KernelDensity(), 6.0: KernelDensity(), 7.0: KernelDensity()}\n"
          ]
        }
      ]
    },
    {
      "cell_type": "code",
      "source": [
        "grid_resolution = 5\n",
        "feature_ranges = [(X_train[:, i].min() - 1, X_train[:, i].max() + 1) for i in range(X_train.shape[1])]\n",
        "grids = [np.linspace(min_val , max_val , grid_resolution) for min_val, max_val in feature_ranges]\n",
        "meshgrid = np.meshgrid(*grids)\n",
        "grid_points = np.vstack([entry.ravel() for entry in meshgrid]).T"
      ],
      "metadata": {
        "id": "eXQa2HI8LYsI"
      },
      "execution_count": null,
      "outputs": []
    },
    {
      "cell_type": "code",
      "source": [
        "class_counts = [np.sum(Y_train == label) for label in np.unique(Y_train)]\n",
        "prior_probabilities = [count / len(Y_train) for count in class_counts]\n",
        "print(class_counts)\n",
        "print(prior_probabilities)"
      ],
      "metadata": {
        "id": "D19T9yXtLbPL",
        "colab": {
          "base_uri": "https://localhost:8080/"
        },
        "outputId": "bd54b47f-cb5d-459e-8440-78088f4fb557"
      },
      "execution_count": null,
      "outputs": [
        {
          "output_type": "stream",
          "name": "stdout",
          "text": [
            "[34108, 37, 132, 6748, 2458, 6, 11]\n",
            "[0.7840919540229885, 0.0008505747126436781, 0.0030344827586206895, 0.1551264367816092, 0.05650574712643678, 0.00013793103448275863, 0.0002528735632183908]\n"
          ]
        }
      ]
    },
    {
      "cell_type": "code",
      "source": [
        "# ...\n",
        "\n",
        "# Step 5: Classify test vectors using the grid and BDR\n",
        "test_predictions = []\n",
        "\n",
        "for point in X_test:\n",
        "    # Find the index of the grid element in the feature space where the test vector is located\n",
        "    grid_indices = []\n",
        "    for i in range(point.shape[0]):\n",
        "        index = np.searchsorted(grids[i], point[i])\n",
        "        grid_indices.append(index)\n",
        "\n",
        "    # Use the BDR to assign a label based on the grid element\n",
        "    class_probabilities = []\n",
        "\n",
        "    for label in np.unique(Y_train):\n",
        "        kde = pdf[label]\n",
        "        log_pdf = kde.score_samples(point.reshape(1, -1))\n",
        "\n",
        "        # Use integer index to access prior_probabilities\n",
        "        class_probabilities.append((label, (log_pdf + np.log(prior_probabilities[int(label)-1]))))\n",
        "\n",
        "    predicted_label = max(class_probabilities, key=lambda x: x[1])[0]\n",
        "    test_predictions.append(predicted_label)\n",
        "\n",
        "# ..."
      ],
      "metadata": {
        "id": "W1WzhWWvuNua"
      },
      "execution_count": null,
      "outputs": []
    },
    {
      "cell_type": "code",
      "source": [
        "accuracy_bdr = accuracy_score(Y_test, test_predictions)\n",
        "error_rate_bdr = 1 - accuracy_bdr\n",
        "\n",
        "# Print accuracy/error rate\n",
        "print(f\"Accuracy: {accuracy_bdr * 100:.2f}%\")\n",
        "print(f\"Error Rate: {error_rate_bdr * 100:.2f}%\")"
      ],
      "metadata": {
        "colab": {
          "base_uri": "https://localhost:8080/"
        },
        "id": "9MTvCx5mIPtq",
        "outputId": "9f826222-68e7-41f1-e23c-97ba608a452b"
      },
      "execution_count": null,
      "outputs": [
        {
          "output_type": "stream",
          "name": "stdout",
          "text": [
            "Accuracy: 99.88%\n",
            "Error Rate: 0.12%\n"
          ]
        }
      ]
    },
    {
      "cell_type": "code",
      "source": [
        "ldaClassifier = LinearDiscriminantAnalysis()\n",
        "ldaClassifier.fit(X_train ,Y_train)\n",
        "Y_pred = ldaClassifier.predict(X_test)\n",
        "accuracy_lda = accuracy_score(Y_test , Y_pred)\n",
        "error_rate_lda = 1 - accuracy_lda\n",
        "\n",
        "# Print accuracy/error rate\n",
        "print(f\"Accuracy: {accuracy_lda * 100:.2f}%\")\n",
        "print(f\"Error Rate: {error_rate_lda * 100:.2f}%\")"
      ],
      "metadata": {
        "colab": {
          "base_uri": "https://localhost:8080/"
        },
        "id": "BiP3E3mKIXW5",
        "outputId": "b3e3d771-a0a9-4daf-cec2-21140a4248f7"
      },
      "execution_count": null,
      "outputs": [
        {
          "output_type": "stream",
          "name": "stdout",
          "text": [
            "Accuracy: 94.62%\n",
            "Error Rate: 5.38%\n"
          ]
        }
      ]
    },
    {
      "cell_type": "code",
      "source": [
        "qdaClassifier = QuadraticDiscriminantAnalysis(reg_param = 0.2)\n",
        "qdaClassifier.fit(X_train, Y_train)\n",
        "Y_pred = qdaClassifier.predict(X_test)\n",
        "accuracy_qda = accuracy_score(Y_test, Y_pred)\n",
        "error_rate_qda = 1 - accuracy_qda\n",
        "\n",
        "# Print accuracy/error rate\n",
        "print(f\"Accuracy: {accuracy_qda * 100:.2f}%\")\n",
        "print(f\"Error Rate: {error_rate_qda * 100:.2f}%\")"
      ],
      "metadata": {
        "colab": {
          "base_uri": "https://localhost:8080/"
        },
        "id": "GzC_3qlBIaqX",
        "outputId": "ea43bceb-674f-475f-e9fe-b856c4a0aebe"
      },
      "execution_count": null,
      "outputs": [
        {
          "output_type": "stream",
          "name": "stdout",
          "text": [
            "Accuracy: 96.46%\n",
            "Error Rate: 3.54%\n"
          ]
        },
        {
          "output_type": "stream",
          "name": "stderr",
          "text": [
            "/usr/local/lib/python3.10/dist-packages/sklearn/discriminant_analysis.py:926: UserWarning: Variables are collinear\n",
            "  warnings.warn(\"Variables are collinear\")\n"
          ]
        }
      ]
    },
    {
      "cell_type": "code",
      "source": [
        "print(\" Model | Accuracy | Error Rate\")\n",
        "print(f\"  BDR  | {accuracy_bdr * 100:.2f}%   | {error_rate_bdr * 100:.2f}\")\n",
        "print(f\"  LDA  | {accuracy_lda * 100:.2f}%   | {error_rate_lda * 100:.2f}\")\n",
        "print(f\"  QDA  | {accuracy_qda * 100:.2f}%   | {error_rate_qda * 100:.2f}\")"
      ],
      "metadata": {
        "colab": {
          "base_uri": "https://localhost:8080/"
        },
        "id": "XAuAsV8SIdPG",
        "outputId": "85ffd506-7afd-4ae0-8fb9-affda30de06c"
      },
      "execution_count": null,
      "outputs": [
        {
          "output_type": "stream",
          "name": "stdout",
          "text": [
            " Model | Accuracy | Error Rate\n",
            "  BDR  | 99.88%   | 0.12\n",
            "  LDA  | 94.62%   | 5.38\n",
            "  QDA  | 96.46%   | 3.54\n"
          ]
        }
      ]
    },
    {
      "cell_type": "code",
      "source": [],
      "metadata": {
        "id": "X-ouPXyYNB_o"
      },
      "execution_count": null,
      "outputs": []
    },
    {
      "cell_type": "markdown",
      "source": [
        "Checking accuracies of the lda and qda model after shuffling the data"
      ],
      "metadata": {
        "id": "mxI6uZI5LfKb"
      }
    },
    {
      "cell_type": "code",
      "source": [
        "trainDataset = readData('/content/drive/MyDrive/shuttle.trn')\n",
        "testDataset =  readData('/content/drive/MyDrive/shuttle.tst')\n",
        "print(f'length of the train dataset from shuttle.trn file is {len(trainDataset)}')\n",
        "print(f'length of the test dataset from shuttle.trn file is {len(testDataset)}')"
      ],
      "metadata": {
        "colab": {
          "base_uri": "https://localhost:8080/"
        },
        "id": "9XYg2H5SLldK",
        "outputId": "17388531-c326-4cf3-b40c-2c0086dfbaa6"
      },
      "execution_count": null,
      "outputs": [
        {
          "output_type": "stream",
          "name": "stdout",
          "text": [
            "length of the train dataset from shuttle.trn file is 43500\n",
            "length of the test dataset from shuttle.trn file is 14500\n"
          ]
        }
      ]
    },
    {
      "cell_type": "code",
      "source": [
        "for i in testDataset:\n",
        "  trainDataset.append(i)\n",
        "print(f'length of the train dataset after merging both files{len(trainDataset)}')"
      ],
      "metadata": {
        "colab": {
          "base_uri": "https://localhost:8080/"
        },
        "id": "LTHtzxHZLmu6",
        "outputId": "e31bf370-0cce-4d57-de8d-aa0d97a30288"
      },
      "execution_count": null,
      "outputs": [
        {
          "output_type": "stream",
          "name": "stdout",
          "text": [
            "length of the train dataset after merging both files58000\n"
          ]
        }
      ]
    },
    {
      "cell_type": "code",
      "source": [
        "trainDataset = np.array(trainDataset)\n",
        "X = np.array(trainDataset[:,:-1])\n",
        "Y = np.array(trainDataset[:,-1])"
      ],
      "metadata": {
        "id": "TT3TYTnqLoaW"
      },
      "execution_count": null,
      "outputs": []
    },
    {
      "cell_type": "code",
      "source": [
        "X_train , X_test , Y_train , Y_test = sklearn.model_selection.train_test_split(X,Y,test_size = 0.2 , random_state = 42 , shuffle = True)"
      ],
      "metadata": {
        "id": "HTnVKzurLpmZ"
      },
      "execution_count": null,
      "outputs": []
    },
    {
      "cell_type": "code",
      "source": [
        "print(f\"The size of the training set {len(X_train)} with features {len(X_train[0])}\")\n",
        "print(f\"The size of the training set {len(X_test)} with features {len(X_test[0])}\")"
      ],
      "metadata": {
        "colab": {
          "base_uri": "https://localhost:8080/"
        },
        "id": "AYX4dWe1Lsj9",
        "outputId": "68e797f6-37e7-4b53-a050-6a4a5391197e"
      },
      "execution_count": null,
      "outputs": [
        {
          "output_type": "stream",
          "name": "stdout",
          "text": [
            "The size of the training set 46400 with features 9\n",
            "The size of the training set 11600 with features 9\n"
          ]
        }
      ]
    },
    {
      "cell_type": "code",
      "source": [
        "ldaClassifier = LinearDiscriminantAnalysis()\n",
        "ldaClassifier.fit(X_train ,Y_train)\n",
        "Y_pred = ldaClassifier.predict(X_test)\n",
        "accuracy_lda = accuracy_score(Y_test , Y_pred)\n",
        "error_rate_lda = 1 - accuracy_lda\n",
        "\n",
        "# Print accuracy/error rate\n",
        "print(f\"Accuracy: {accuracy_lda * 100:.2f}%\")\n",
        "print(f\"Error Rate: {error_rate_lda * 100:.2f}%\")"
      ],
      "metadata": {
        "colab": {
          "base_uri": "https://localhost:8080/"
        },
        "id": "EZp8knpALuqk",
        "outputId": "e3f1195f-7fba-49e4-a25e-9e51e5fc9fa6"
      },
      "execution_count": null,
      "outputs": [
        {
          "output_type": "stream",
          "name": "stdout",
          "text": [
            "Accuracy: 94.24%\n",
            "Error Rate: 5.76%\n"
          ]
        }
      ]
    },
    {
      "cell_type": "code",
      "source": [
        "qdaClassifier = QuadraticDiscriminantAnalysis(reg_param = 0.2)\n",
        "qdaClassifier.fit(X_train, Y_train)\n",
        "Y_pred = qdaClassifier.predict(X_test)\n",
        "accuracy_qda = accuracy_score(Y_test, Y_pred)\n",
        "error_rate_qda = 1 - accuracy_qda\n",
        "\n",
        "# Print accuracy/error rate\n",
        "print(f\"Accuracy: {accuracy_qda * 100:.2f}%\")\n",
        "print(f\"Error Rate: {error_rate_qda * 100:.2f}%\")"
      ],
      "metadata": {
        "colab": {
          "base_uri": "https://localhost:8080/"
        },
        "id": "asmvFulSL4cl",
        "outputId": "c1a8f359-cc59-4f40-f502-209eb1139c28"
      },
      "execution_count": null,
      "outputs": [
        {
          "output_type": "stream",
          "name": "stdout",
          "text": [
            "Accuracy: 95.50%\n",
            "Error Rate: 4.50%\n"
          ]
        },
        {
          "output_type": "stream",
          "name": "stderr",
          "text": [
            "/usr/local/lib/python3.10/dist-packages/sklearn/discriminant_analysis.py:926: UserWarning: Variables are collinear\n",
            "  warnings.warn(\"Variables are collinear\")\n"
          ]
        }
      ]
    },
    {
      "cell_type": "code",
      "source": [
        "print(\" Model | Accuracy | Error Rate\")\n",
        "print(f\"  LDA  | {accuracy_lda * 100:.2f}%   | {error_rate_lda * 100:.2f}\")\n",
        "print(f\"  QDA  | {accuracy_qda * 100:.2f}%   | {error_rate_qda * 100:.2f}\")"
      ],
      "metadata": {
        "colab": {
          "base_uri": "https://localhost:8080/"
        },
        "id": "yKWxuB6KL5Xt",
        "outputId": "b8a85606-19da-495d-cf4a-29c0662b41b0"
      },
      "execution_count": null,
      "outputs": [
        {
          "output_type": "stream",
          "name": "stdout",
          "text": [
            " Model | Accuracy | Error Rate\n",
            "  LDA  | 94.24%   | 5.76\n",
            "  QDA  | 95.50%   | 4.50\n"
          ]
        }
      ]
    },
    {
      "cell_type": "code",
      "source": [],
      "metadata": {
        "id": "6sWTW5vmL86h"
      },
      "execution_count": null,
      "outputs": []
    }
  ]
}